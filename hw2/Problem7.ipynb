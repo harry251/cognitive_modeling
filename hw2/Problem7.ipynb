{
 "cells": [
  {
   "cell_type": "code",
   "execution_count": 16,
   "metadata": {},
   "outputs": [],
   "source": [
    "import numpy as np\n",
    "from scipy.stats import multivariate_normal"
   ]
  },
  {
   "cell_type": "markdown",
   "metadata": {},
   "source": [
    "## Problem 7"
   ]
  },
  {
   "cell_type": "code",
   "execution_count": 17,
   "metadata": {},
   "outputs": [],
   "source": [
    "# Created by ChatGPT\n",
    "def multivariate_normal_density(x, mu, Sigma):\n",
    "    \"\"\"\n",
    "    Computes the multivariate normal (Gaussian) density for a D-dimensional vector x,\n",
    "    given mean mu (D-dimensional) and covariance matrix Sigma (DxD).\n",
    "    \n",
    "    Returns:\n",
    "        A float representing the probability density at x.\n",
    "    \"\"\"\n",
    "    x = np.asarray(x, dtype=float)\n",
    "    mu = np.asarray(mu, dtype=float)\n",
    "    Sigma = np.asarray(Sigma, dtype=float)\n",
    "    \n",
    "    # Ensure dimensions are consistent\n",
    "    D = len(x)\n",
    "    assert mu.shape == (D,), \"mu must be a D-dimensional vector matching x\"\n",
    "    assert Sigma.shape == (D, D), \"Sigma must be a DxD matrix\"\n",
    "    \n",
    "    # Compute determinant and inverse of Sigma\n",
    "    det_Sigma = np.linalg.det(Sigma)\n",
    "    inv_Sigma = np.linalg.inv(Sigma)\n",
    "    \n",
    "    # Normalizing constant\n",
    "    norm_const = 1.0 / np.sqrt((2.0 * np.pi)**D * det_Sigma)\n",
    "    \n",
    "    # Exponent term\n",
    "    diff = x - mu\n",
    "    exponent = -0.5 * np.dot(diff.T, np.dot(inv_Sigma, diff))\n",
    "    \n",
    "    return norm_const * np.exp(exponent)\n"
   ]
  },
  {
   "cell_type": "code",
   "execution_count": 23,
   "metadata": {},
   "outputs": [
    {
     "name": "stdout",
     "output_type": "stream",
     "text": [
      "Spherical Gaussian: Custom function = 0.05854983, SciPy = 0.05854983\n",
      "Diagonal Gaussian: Custom function = 0.04283398, SciPy = 0.04283398\n",
      "Full-Covariance Gaussian: Custom function = 0.05272867, SciPy = 0.05272867\n"
     ]
    }
   ],
   "source": [
    "x = np.array([1, 1])\n",
    "mu = np.array([0, 0])\n",
    "\n",
    "# Different covariance structures\n",
    "covariances = {\n",
    "    \"Spherical Gaussian\": np.array([[1, 0], [0, 1]]),\n",
    "    \"Diagonal Gaussian\": np.array([[2, 0], [0, 3]]),\n",
    "    \"Full-Covariance Gaussian\": np.array([[2, 1], [1, 3]])\n",
    "}\n",
    "\n",
    "# Compare outputs\n",
    "for name, Sigma in covariances.items():\n",
    "    density_our_function = multivariate_normal_density(x, mu, Sigma)\n",
    "    density_scipy = multivariate_normal.pdf(x, mean=mu, cov=Sigma)\n",
    "    print(f\"{name}: Custom function = {density_our_function:.8f}, SciPy = {density_scipy:.8f}\")\n"
   ]
  },
  {
   "cell_type": "markdown",
   "metadata": {},
   "source": [
    "The outputs of ChatGPT's custom function and SciPy's function are the same (at least 8 decimal points). Thus, ChatGPT effectively created a correctly organized function for computing the multivariate normal density. "
   ]
  }
 ],
 "metadata": {
  "kernelspec": {
   "display_name": "base",
   "language": "python",
   "name": "python3"
  },
  "language_info": {
   "codemirror_mode": {
    "name": "ipython",
    "version": 3
   },
   "file_extension": ".py",
   "mimetype": "text/x-python",
   "name": "python",
   "nbconvert_exporter": "python",
   "pygments_lexer": "ipython3",
   "version": "3.12.7"
  }
 },
 "nbformat": 4,
 "nbformat_minor": 2
}
