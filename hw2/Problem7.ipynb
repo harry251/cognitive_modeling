{
 "cells": [
  {
   "cell_type": "code",
   "execution_count": 35,
   "metadata": {},
   "outputs": [],
   "source": [
    "import timeit\n",
    "import numpy as np\n",
    "from scipy.stats import multivariate_normal"
   ]
  },
  {
   "cell_type": "markdown",
   "metadata": {},
   "source": [
    "## Problem 7"
   ]
  },
  {
   "cell_type": "code",
   "execution_count": 36,
   "metadata": {},
   "outputs": [],
   "source": [
    "# Created by ChatGPT\n",
    "def multivariate_normal_density(x, mu, Sigma):\n",
    "    \"\"\"\n",
    "    Computes the multivariate normal (Gaussian) density for a D-dimensional vector x,\n",
    "    given mean mu (D-dimensional) and covariance matrix Sigma (DxD).\n",
    "    \n",
    "    Returns:\n",
    "        A float representing the probability density at x.\n",
    "    \"\"\"\n",
    "    x = np.asarray(x, dtype=float)\n",
    "    mu = np.asarray(mu, dtype=float)\n",
    "    Sigma = np.asarray(Sigma, dtype=float)\n",
    "    \n",
    "    # Ensure dimensions are consistent\n",
    "    D = len(x)\n",
    "    assert mu.shape == (D,), \"mu must be a D-dimensional vector matching x\"\n",
    "    assert Sigma.shape == (D, D), \"Sigma must be a DxD matrix\"\n",
    "    \n",
    "    # Compute determinant and inverse of Sigma\n",
    "    det_Sigma = np.linalg.det(Sigma)\n",
    "    inv_Sigma = np.linalg.inv(Sigma)\n",
    "    \n",
    "    # Normalizing constant\n",
    "    norm_const = 1.0 / np.sqrt((2.0 * np.pi)**D * det_Sigma)\n",
    "    \n",
    "    # Exponent term\n",
    "    diff = x - mu\n",
    "    exponent = -0.5 * np.dot(diff.T, np.dot(inv_Sigma, diff))\n",
    "    \n",
    "    return norm_const * np.exp(exponent)\n"
   ]
  },
  {
   "cell_type": "code",
   "execution_count": 37,
   "metadata": {},
   "outputs": [
    {
     "name": "stdout",
     "output_type": "stream",
     "text": [
      "Spherical Gaussian:\n",
      "  Density: Custom function = 0.05854983, SciPy = 0.05854983\n",
      "  Average runtime per call: Custom = 1.05531382e-04 s, SciPy = 2.19442836e-04 s\n",
      "Diagonal Gaussian:\n",
      "  Density: Custom function = 0.04283398, SciPy = 0.04283398\n",
      "  Average runtime per call: Custom = 3.87124243e-05 s, SciPy = 1.99472052e-04 s\n",
      "Full-Covariance Gaussian:\n",
      "  Density: Custom function = 0.05272867, SciPy = 0.05272867\n",
      "  Average runtime per call: Custom = 5.42800047e-05 s, SciPy = 2.61884280e-04 s\n"
     ]
    }
   ],
   "source": [
    "# Input parameters\n",
    "x = np.array([1, 1])\n",
    "mu = np.array([0, 0])\n",
    "\n",
    "# Different covariance structures\n",
    "covariances = {\n",
    "    \"Spherical Gaussian\": np.array([[1, 0], [0, 1]]),\n",
    "    \"Diagonal Gaussian\": np.array([[2, 0], [0, 3]]),\n",
    "    \"Full-Covariance Gaussian\": np.array([[2, 1], [1, 3]])\n",
    "}\n",
    "\n",
    "iterations = 10000\n",
    "\n",
    "# Compare outputs with averaged runtime measurement using timeit\n",
    "for name, Sigma in covariances.items():\n",
    "    density_custom = multivariate_normal_density(x, mu, Sigma)\n",
    "    density_scipy = multivariate_normal.pdf(x, mean=mu, cov=Sigma)\n",
    "    \n",
    "    runtime_custom = timeit.timeit(\n",
    "        lambda: multivariate_normal_density(x, mu, Sigma),\n",
    "        number=iterations\n",
    "    ) / iterations\n",
    "    \n",
    "    runtime_scipy = timeit.timeit(\n",
    "        lambda: multivariate_normal.pdf(x, mean=mu, cov=Sigma),\n",
    "        number=iterations\n",
    "    ) / iterations\n",
    "\n",
    "    print(f\"{name}:\")\n",
    "    print(f\"  Density: Custom function = {density_custom:.8f}, SciPy = {density_scipy:.8f}\")\n",
    "    print(f\"  Average runtime per call: Custom = {runtime_custom:.8e} s, SciPy = {runtime_scipy:.8e} s\")"
   ]
  },
  {
   "cell_type": "markdown",
   "metadata": {},
   "source": [
    "The outputs of ChatGPT's custom function and SciPy's function are the same (at least 8 decimal points). Thus, ChatGPT effectively created a correctly organized function for computing the multivariate normal density. Additionally, the custom function demonstrated faster average runtime per call compared to SciPy's implementation."
   ]
  }
 ],
 "metadata": {
  "kernelspec": {
   "display_name": "base",
   "language": "python",
   "name": "python3"
  },
  "language_info": {
   "codemirror_mode": {
    "name": "ipython",
    "version": 3
   },
   "file_extension": ".py",
   "mimetype": "text/x-python",
   "name": "python",
   "nbconvert_exporter": "python",
   "pygments_lexer": "ipython3",
   "version": "3.12.7"
  }
 },
 "nbformat": 4,
 "nbformat_minor": 2
}
