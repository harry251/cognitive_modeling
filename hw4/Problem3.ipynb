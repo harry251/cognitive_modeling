{
 "cells": [
  {
   "cell_type": "markdown",
   "id": "59bafb6c",
   "metadata": {},
   "source": [
    "## Problem 3: Multiple Regression"
   ]
  },
  {
   "cell_type": "markdown",
   "id": "c0bbb5f5",
   "metadata": {},
   "source": [
    "Extend your simple Bayesian regression model from the previous exercise into a multiple regression model:\n",
    "\n",
    "\\begin{aligned}\n",
    "\\sigma &\\sim \\text{Inv-Gamma}(\\tau_0, \\tau_1) \\\\\n",
    "\\alpha &\\sim \\text{Normal}(0, \\sigma_\\alpha) \\\\\n",
    "\\beta &\\sim \\text{Multivariate-Normal}(0, \\sigma_\\beta \\mathbb{I}) \\\\\n",
    "y_n &\\sim \\text{Normal}(\\alpha + \\beta x_n^T, \\sigma) \\quad \\text{for } n = 1, \\dots, N,\n",
    "\\end{aligned}\n",
    "\n",
    "where you need to set the hyperparameters of the prior (i.e., $\\tau_0, \\tau_1, \\sigma_\\beta, \\sigma_\\alpha$) to some reasonable values. Next, use your **Stan** program to fit a Bayesian multiple regression model for the Insurance Costs data set: **data/insurance.csv**\n",
    "\n",
    "Your goal is to predict the insurance charges (**charges**) from a patient’s BMI (**bmi**), age (**age**), and number of children (**children**). Thus, you need to estimate three regression weights ($\\beta_1, \\beta_2, \\beta_3$), along with the intercept ($\\alpha$), and the noise parameter ($\\sigma$). It is also recommended that you standardize your predictors (i.e., subtract the means from the input variables and divide by their standard deviations) in order to bring them to a common scale.\n",
    "\n",
    "Split the data into a training set and a test set and fit the model only to the training set. Perform the usual convergence checks and describe your results. **Which of the three variables is the best predictor of Insurance Charges?**"
   ]
  }
 ],
 "metadata": {
  "language_info": {
   "name": "python"
  }
 },
 "nbformat": 4,
 "nbformat_minor": 5
}
