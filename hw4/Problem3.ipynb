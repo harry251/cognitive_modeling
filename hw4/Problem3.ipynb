{
 "cells": [
  {
   "cell_type": "markdown",
   "id": "59bafb6c",
   "metadata": {},
   "source": [
    "## Problem 3: Multiple Regression"
   ]
  }
 ],
 "metadata": {
  "language_info": {
   "name": "python"
  }
 },
 "nbformat": 4,
 "nbformat_minor": 5
}
