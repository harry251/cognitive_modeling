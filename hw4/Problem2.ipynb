{
 "cells": [
  {
   "cell_type": "markdown",
   "id": "9c4949b1",
   "metadata": {},
   "source": [
    "## Problem 2: Simple Multinomial Processing Trees"
   ]
  },
  {
   "cell_type": "markdown",
   "id": "36ab7a68",
   "metadata": {},
   "source": [
    "Collect some data (e.g., from a friend or your teammate) on the recognition memory task from the slides (or construct your own task) and fit the following two models using **Stan**:\n",
    "\n",
    "- The One-High-Threshold Model (1HT)\n",
    "- The Two-High-Threshold Model (2HT)\n",
    "\n",
    "The models are depicted on Slide 12 (MPT models). As usual, inspect the convergence of the MCMC samplers and report the estimation results. Do the two models suggest different estimates for the two key parameters? Describe and interpret the results."
   ]
  }
 ],
 "metadata": {
  "language_info": {
   "name": "python"
  }
 },
 "nbformat": 4,
 "nbformat_minor": 5
}
