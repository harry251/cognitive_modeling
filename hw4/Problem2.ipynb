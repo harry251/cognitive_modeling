{
 "cells": [
  {
   "cell_type": "markdown",
   "id": "30a60ee1",
   "metadata": {},
   "source": [
    "## Problem 2: Simple Multinomial Processing Trees"
   ]
  },
  {
   "cell_type": "code",
   "execution_count": 39,
   "id": "b43e72f3",
   "metadata": {},
   "outputs": [],
   "source": [
    "import stan\n",
    "import arviz as az\n",
    "import nest_asyncio\n",
    "nest_asyncio.apply()"
   ]
  },
  {
   "cell_type": "code",
   "execution_count": 40,
   "id": "12925305",
   "metadata": {},
   "outputs": [],
   "source": [
    "# Recognition memory task data\n",
    "data = {\n",
    "    \"hits\": 75,\n",
    "    \"misses\": 25,\n",
    "    \"false_alarms\": 30,\n",
    "    \"correct_rejects\": 70\n",
    "}"
   ]
  },
  {
   "cell_type": "markdown",
   "id": "fa883a1c",
   "metadata": {},
   "source": [
    "### The One-High-Threshold Model (1HT)"
   ]
  },
  {
   "cell_type": "code",
   "execution_count": 41,
   "id": "49a61095",
   "metadata": {},
   "outputs": [],
   "source": [
    "# Define the 1HT Stan model\n",
    "model_1ht_code = \"\"\"\n",
    "data {\n",
    "  int<lower=0> hits;\n",
    "  int<lower=0> misses;\n",
    "  int<lower=0> false_alarms;\n",
    "  int<lower=0> correct_rejects;\n",
    "}\n",
    "\n",
    "parameters {\n",
    "  real<lower=0, upper=1> D;\n",
    "  real<lower=0, upper=1> g;\n",
    "}\n",
    "\n",
    "model {\n",
    "  hits ~ binomial(hits + misses, D + (1 - D) * g);\n",
    "  false_alarms ~ binomial(false_alarms + correct_rejects, g);\n",
    "}\n",
    "\n",
    "generated quantities {\n",
    "  vector[2] log_lik;\n",
    "  log_lik[1] = binomial_lpmf(hits | hits + misses, D + (1 - D) * g);\n",
    "  log_lik[2] = binomial_lpmf(false_alarms | false_alarms + correct_rejects, g);\n",
    "}\n",
    "\"\"\""
   ]
  },
  {
   "cell_type": "code",
   "execution_count": 42,
   "id": "301a1797",
   "metadata": {},
   "outputs": [
    {
     "name": "stdout",
     "output_type": "stream",
     "text": [
      "Building...\n"
     ]
    },
    {
     "name": "stderr",
     "output_type": "stream",
     "text": [
      "\n",
      "Building: found in cache, done.Messages from stanc:\n",
      "Warning: The parameter g has 2 priors.\n",
      "Sampling:   0%"
     ]
    },
    {
     "name": "stderr",
     "output_type": "stream",
     "text": [
      "\n",
      "Sampling:  25% (2000/8000)\n",
      "Sampling:  50% (4000/8000)\n",
      "Sampling:  75% (6000/8000)\n",
      "Sampling: 100% (8000/8000)\n",
      "Sampling: 100% (8000/8000), done.\n",
      "Messages received during sampling:\n",
      "  Gradient evaluation took 1.6e-05 seconds\n",
      "  1000 transitions using 10 leapfrog steps per transition would take 0.16 seconds.\n",
      "  Adjust your expectations accordingly!\n",
      "  Gradient evaluation took 2.9e-05 seconds\n",
      "  1000 transitions using 10 leapfrog steps per transition would take 0.29 seconds.\n",
      "  Adjust your expectations accordingly!\n",
      "  Gradient evaluation took 1.6e-05 seconds\n",
      "  1000 transitions using 10 leapfrog steps per transition would take 0.16 seconds.\n",
      "  Adjust your expectations accordingly!\n",
      "  Gradient evaluation took 1.6e-05 seconds\n",
      "  1000 transitions using 10 leapfrog steps per transition would take 0.16 seconds.\n",
      "  Adjust your expectations accordingly!\n"
     ]
    }
   ],
   "source": [
    "# Build and sample from 1HT model\n",
    "posterior_1ht = stan.build(model_1ht_code, data=data)\n",
    "fit_1ht = posterior_1ht.sample(num_chains=4, num_samples=1000)\n",
    "\n",
    "# Convert to ArviZ format\n",
    "idata_1ht = az.from_pystan(posterior=fit_1ht, log_likelihood=\"log_lik\")"
   ]
  },
  {
   "cell_type": "code",
   "execution_count": 43,
   "id": "e3d80e7f",
   "metadata": {},
   "outputs": [
    {
     "data": {
      "text/html": [
       "<div>\n",
       "<style scoped>\n",
       "    .dataframe tbody tr th:only-of-type {\n",
       "        vertical-align: middle;\n",
       "    }\n",
       "\n",
       "    .dataframe tbody tr th {\n",
       "        vertical-align: top;\n",
       "    }\n",
       "\n",
       "    .dataframe thead th {\n",
       "        text-align: right;\n",
       "    }\n",
       "</style>\n",
       "<table border=\"1\" class=\"dataframe\">\n",
       "  <thead>\n",
       "    <tr style=\"text-align: right;\">\n",
       "      <th></th>\n",
       "      <th>mean</th>\n",
       "      <th>sd</th>\n",
       "      <th>hdi_3%</th>\n",
       "      <th>hdi_97%</th>\n",
       "      <th>mcse_mean</th>\n",
       "      <th>mcse_sd</th>\n",
       "      <th>ess_bulk</th>\n",
       "      <th>ess_tail</th>\n",
       "      <th>r_hat</th>\n",
       "    </tr>\n",
       "  </thead>\n",
       "  <tbody>\n",
       "    <tr>\n",
       "      <th>D</th>\n",
       "      <td>0.629</td>\n",
       "      <td>0.067</td>\n",
       "      <td>0.502</td>\n",
       "      <td>0.751</td>\n",
       "      <td>0.002</td>\n",
       "      <td>0.001</td>\n",
       "      <td>1724.0</td>\n",
       "      <td>2043.0</td>\n",
       "      <td>1.0</td>\n",
       "    </tr>\n",
       "    <tr>\n",
       "      <th>g</th>\n",
       "      <td>0.308</td>\n",
       "      <td>0.046</td>\n",
       "      <td>0.227</td>\n",
       "      <td>0.398</td>\n",
       "      <td>0.001</td>\n",
       "      <td>0.001</td>\n",
       "      <td>1941.0</td>\n",
       "      <td>2301.0</td>\n",
       "      <td>1.0</td>\n",
       "    </tr>\n",
       "  </tbody>\n",
       "</table>\n",
       "</div>"
      ],
      "text/plain": [
       "    mean     sd  hdi_3%  hdi_97%  mcse_mean  mcse_sd  ess_bulk  ess_tail  \\\n",
       "D  0.629  0.067   0.502    0.751      0.002    0.001    1724.0    2043.0   \n",
       "g  0.308  0.046   0.227    0.398      0.001    0.001    1941.0    2301.0   \n",
       "\n",
       "   r_hat  \n",
       "D    1.0  \n",
       "g    1.0  "
      ]
     },
     "execution_count": 43,
     "metadata": {},
     "output_type": "execute_result"
    }
   ],
   "source": [
    "az.summary(idata_1ht, var_names=[\"D\", \"g\"])"
   ]
  },
  {
   "cell_type": "markdown",
   "id": "9ebde13b",
   "metadata": {},
   "source": [
    "### The Two-High-Threshold Model (2HT)"
   ]
  },
  {
   "cell_type": "code",
   "execution_count": 44,
   "id": "c04b0595",
   "metadata": {},
   "outputs": [],
   "source": [
    "# Define the 2HT Stan model as a string\n",
    "model_2ht_code = \"\"\"\n",
    "data {\n",
    "  int<lower=0> hits;\n",
    "  int<lower=0> misses;\n",
    "  int<lower=0> false_alarms;\n",
    "  int<lower=0> correct_rejects;\n",
    "}\n",
    "\n",
    "parameters {\n",
    "  real<lower=0, upper=1> Do;\n",
    "  real<lower=0, upper=1> Dn;\n",
    "  real<lower=0, upper=1> g;\n",
    "}\n",
    "\n",
    "model {\n",
    "  hits ~ binomial(hits + misses, Do + (1 - Do) * g);\n",
    "  false_alarms ~ binomial(false_alarms + correct_rejects, (1 - Dn) * g);\n",
    "}\n",
    "\n",
    "generated quantities {\n",
    "  vector[2] log_lik;\n",
    "  log_lik[1] = binomial_lpmf(hits | hits + misses, Do + (1 - Do) * g);\n",
    "  log_lik[2] = binomial_lpmf(false_alarms | false_alarms + correct_rejects, (1 - Dn) * g);\n",
    "}\n",
    "\"\"\""
   ]
  },
  {
   "cell_type": "code",
   "execution_count": 45,
   "id": "a8341c6b",
   "metadata": {},
   "outputs": [
    {
     "name": "stdout",
     "output_type": "stream",
     "text": [
      "Building...\n"
     ]
    },
    {
     "name": "stderr",
     "output_type": "stream",
     "text": [
      "\n",
      "Building: found in cache, done.Messages from stanc:\n",
      "Warning: The parameter g has 2 priors.\n",
      "Sampling:   0%"
     ]
    },
    {
     "name": "stderr",
     "output_type": "stream",
     "text": [
      "\n",
      "Sampling:  25% (2000/8000)\n",
      "Sampling:  50% (4000/8000)\n",
      "Sampling:  75% (6000/8000)\n",
      "Sampling: 100% (8000/8000)\n",
      "Sampling: 100% (8000/8000), done.\n",
      "Messages received during sampling:\n",
      "  Gradient evaluation took 5e-06 seconds\n",
      "  1000 transitions using 10 leapfrog steps per transition would take 0.05 seconds.\n",
      "  Adjust your expectations accordingly!\n",
      "  Gradient evaluation took 4e-06 seconds\n",
      "  1000 transitions using 10 leapfrog steps per transition would take 0.04 seconds.\n",
      "  Adjust your expectations accordingly!\n",
      "  Gradient evaluation took 3e-06 seconds\n",
      "  1000 transitions using 10 leapfrog steps per transition would take 0.03 seconds.\n",
      "  Adjust your expectations accordingly!\n",
      "  Gradient evaluation took 3e-06 seconds\n",
      "  1000 transitions using 10 leapfrog steps per transition would take 0.03 seconds.\n",
      "  Adjust your expectations accordingly!\n"
     ]
    }
   ],
   "source": [
    "# Build and sample from 2HT model\n",
    "posterior_2ht = stan.build(model_2ht_code, data=data)\n",
    "fit_2ht = posterior_2ht.sample(num_chains=4, num_samples=1000)\n",
    "\n",
    "# Convert to ArviZ format\n",
    "idata_2ht = az.from_pystan(posterior=fit_2ht, log_likelihood=\"log_lik\")"
   ]
  },
  {
   "cell_type": "code",
   "execution_count": 46,
   "id": "3936902d",
   "metadata": {},
   "outputs": [
    {
     "data": {
      "text/html": [
       "<div>\n",
       "<style scoped>\n",
       "    .dataframe tbody tr th:only-of-type {\n",
       "        vertical-align: middle;\n",
       "    }\n",
       "\n",
       "    .dataframe tbody tr th {\n",
       "        vertical-align: top;\n",
       "    }\n",
       "\n",
       "    .dataframe thead th {\n",
       "        text-align: right;\n",
       "    }\n",
       "</style>\n",
       "<table border=\"1\" class=\"dataframe\">\n",
       "  <thead>\n",
       "    <tr style=\"text-align: right;\">\n",
       "      <th></th>\n",
       "      <th>mean</th>\n",
       "      <th>sd</th>\n",
       "      <th>hdi_3%</th>\n",
       "      <th>hdi_97%</th>\n",
       "      <th>mcse_mean</th>\n",
       "      <th>mcse_sd</th>\n",
       "      <th>ess_bulk</th>\n",
       "      <th>ess_tail</th>\n",
       "      <th>r_hat</th>\n",
       "    </tr>\n",
       "  </thead>\n",
       "  <tbody>\n",
       "    <tr>\n",
       "      <th>Do</th>\n",
       "      <td>0.420</td>\n",
       "      <td>0.189</td>\n",
       "      <td>0.049</td>\n",
       "      <td>0.703</td>\n",
       "      <td>0.007</td>\n",
       "      <td>0.005</td>\n",
       "      <td>726.0</td>\n",
       "      <td>723.0</td>\n",
       "      <td>1.0</td>\n",
       "    </tr>\n",
       "    <tr>\n",
       "      <th>Dn</th>\n",
       "      <td>0.392</td>\n",
       "      <td>0.179</td>\n",
       "      <td>0.022</td>\n",
       "      <td>0.639</td>\n",
       "      <td>0.007</td>\n",
       "      <td>0.005</td>\n",
       "      <td>780.0</td>\n",
       "      <td>831.0</td>\n",
       "      <td>1.0</td>\n",
       "    </tr>\n",
       "    <tr>\n",
       "      <th>g</th>\n",
       "      <td>0.529</td>\n",
       "      <td>0.144</td>\n",
       "      <td>0.288</td>\n",
       "      <td>0.767</td>\n",
       "      <td>0.005</td>\n",
       "      <td>0.004</td>\n",
       "      <td>750.0</td>\n",
       "      <td>1738.0</td>\n",
       "      <td>1.0</td>\n",
       "    </tr>\n",
       "  </tbody>\n",
       "</table>\n",
       "</div>"
      ],
      "text/plain": [
       "     mean     sd  hdi_3%  hdi_97%  mcse_mean  mcse_sd  ess_bulk  ess_tail  \\\n",
       "Do  0.420  0.189   0.049    0.703      0.007    0.005     726.0     723.0   \n",
       "Dn  0.392  0.179   0.022    0.639      0.007    0.005     780.0     831.0   \n",
       "g   0.529  0.144   0.288    0.767      0.005    0.004     750.0    1738.0   \n",
       "\n",
       "    r_hat  \n",
       "Do    1.0  \n",
       "Dn    1.0  \n",
       "g     1.0  "
      ]
     },
     "execution_count": 46,
     "metadata": {},
     "output_type": "execute_result"
    }
   ],
   "source": [
    "az.summary(idata_2ht, var_names=[\"Do\", \"Dn\", \"g\"])"
   ]
  },
  {
   "cell_type": "markdown",
   "id": "5302d37e",
   "metadata": {},
   "source": [
    "### LOO Model Comparison"
   ]
  },
  {
   "cell_type": "code",
   "execution_count": 47,
   "id": "7d279d4e",
   "metadata": {},
   "outputs": [
    {
     "name": "stderr",
     "output_type": "stream",
     "text": [
      "/opt/anaconda3/lib/python3.12/site-packages/arviz/stats/stats.py:795: UserWarning: Estimated shape parameter of Pareto distribution is greater than 0.70 for one or more samples. You should consider using a more robust model, this is because importance sampling is less likely to work well if the marginal posterior and LOO posterior are very different. This is more likely to happen with a non-robust model and highly influential observations.\n",
      "  warnings.warn(\n",
      "/opt/anaconda3/lib/python3.12/site-packages/arviz/stats/stats.py:795: UserWarning: Estimated shape parameter of Pareto distribution is greater than 0.70 for one or more samples. You should consider using a more robust model, this is because importance sampling is less likely to work well if the marginal posterior and LOO posterior are very different. This is more likely to happen with a non-robust model and highly influential observations.\n",
      "  warnings.warn(\n"
     ]
    },
    {
     "data": {
      "text/html": [
       "<div>\n",
       "<style scoped>\n",
       "    .dataframe tbody tr th:only-of-type {\n",
       "        vertical-align: middle;\n",
       "    }\n",
       "\n",
       "    .dataframe tbody tr th {\n",
       "        vertical-align: top;\n",
       "    }\n",
       "\n",
       "    .dataframe thead th {\n",
       "        text-align: right;\n",
       "    }\n",
       "</style>\n",
       "<table border=\"1\" class=\"dataframe\">\n",
       "  <thead>\n",
       "    <tr style=\"text-align: right;\">\n",
       "      <th></th>\n",
       "      <th>rank</th>\n",
       "      <th>elpd_loo</th>\n",
       "      <th>p_loo</th>\n",
       "      <th>elpd_diff</th>\n",
       "      <th>weight</th>\n",
       "      <th>se</th>\n",
       "      <th>dse</th>\n",
       "      <th>warning</th>\n",
       "      <th>scale</th>\n",
       "    </tr>\n",
       "  </thead>\n",
       "  <tbody>\n",
       "    <tr>\n",
       "      <th>2HT</th>\n",
       "      <td>0</td>\n",
       "      <td>-6.889052</td>\n",
       "      <td>1.353385</td>\n",
       "      <td>0.000000</td>\n",
       "      <td>1.0</td>\n",
       "      <td>0.05492</td>\n",
       "      <td>0.00000</td>\n",
       "      <td>True</td>\n",
       "      <td>log</td>\n",
       "    </tr>\n",
       "    <tr>\n",
       "      <th>1HT</th>\n",
       "      <td>1</td>\n",
       "      <td>-7.428831</td>\n",
       "      <td>1.893953</td>\n",
       "      <td>0.539779</td>\n",
       "      <td>0.0</td>\n",
       "      <td>0.37396</td>\n",
       "      <td>0.31904</td>\n",
       "      <td>True</td>\n",
       "      <td>log</td>\n",
       "    </tr>\n",
       "  </tbody>\n",
       "</table>\n",
       "</div>"
      ],
      "text/plain": [
       "     rank  elpd_loo     p_loo  elpd_diff  weight       se      dse  warning  \\\n",
       "2HT     0 -6.889052  1.353385   0.000000     1.0  0.05492  0.00000     True   \n",
       "1HT     1 -7.428831  1.893953   0.539779     0.0  0.37396  0.31904     True   \n",
       "\n",
       "    scale  \n",
       "2HT   log  \n",
       "1HT   log  "
      ]
     },
     "execution_count": 47,
     "metadata": {},
     "output_type": "execute_result"
    }
   ],
   "source": [
    "az.compare({\"1HT\": idata_1ht, \"2HT\": idata_2ht})"
   ]
  },
  {
   "cell_type": "markdown",
   "id": "f8d42605",
   "metadata": {},
   "source": [
    "**Posterior Estimates:**\n",
    "\n",
    "1HT Model:\n",
    "\n",
    "- D (detection of old items): mean = 0.63, narrow credible interval → suggests good ability to recognize old items.\n",
    "\n",
    "- g (guessing rate): mean = 0.31, fairly low → guessing not dominant in decisions.\n",
    "\n",
    "2HT Model:\n",
    "\n",
    "- Do (detect old): mean = 0.42, more uncertain (wider interval)\n",
    "\n",
    "- Dn (detect new): mean = 0.39, also uncertain\n",
    "\n",
    "- g: mean = 0.53, noticeably higher than in 1HT → indicating greater reliance on guessing when detection fails\n",
    "\n",
    "This suggests the 2HT model attributes more behavior to guessing and less to reliable detection.\n",
    "\n",
    "**Model Fit (LOO Comparison):**\n",
    "\n",
    "2HT model ranks better (lower LOO error), indicating it fits the data better. However, the difference in ELPD (~0.54) is small, and standard errors (se, dse) are relatively large compared to the difference → model improvement is not strongly conclusive.\n",
    "\n",
    "**Conclusion:**\n",
    "\n",
    "The 2HT model slightly outperforms the 1HT model in explaining the recognition memory data. It allows for detection of both old and new items, and estimates a higher guessing rate, suggesting participants might rely more on guessing when detection fails. The improvement is modest and uncertain, so further data or individual-level modeling could help confirm which model is more appropriate."
   ]
  }
 ],
 "metadata": {
  "kernelspec": {
   "display_name": "base",
   "language": "python",
   "name": "python3"
  },
  "language_info": {
   "codemirror_mode": {
    "name": "ipython",
    "version": 3
   },
   "file_extension": ".py",
   "mimetype": "text/x-python",
   "name": "python",
   "nbconvert_exporter": "python",
   "pygments_lexer": "ipython3",
   "version": "3.12.7"
  }
 },
 "nbformat": 4,
 "nbformat_minor": 5
}
