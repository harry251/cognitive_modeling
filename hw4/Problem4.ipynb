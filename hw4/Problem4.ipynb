{
 "cells": [
  {
   "cell_type": "markdown",
   "id": "f4f6e2b5",
   "metadata": {},
   "source": [
    "## Problem 4: Predictive Distribution"
   ]
  }
 ],
 "metadata": {
  "language_info": {
   "name": "python"
  }
 },
 "nbformat": 4,
 "nbformat_minor": 5
}
