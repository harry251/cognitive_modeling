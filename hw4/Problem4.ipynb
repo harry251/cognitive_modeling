{
 "cells": [
  {
   "cell_type": "markdown",
   "id": "f4f6e2b5",
   "metadata": {},
   "source": [
    "## Problem 4: Predictive Distribution"
   ]
  },
  {
   "cell_type": "markdown",
   "id": "96650b8c",
   "metadata": {},
   "source": [
    "Use the **generated quantities** block in the **Stan** program to also pass the test data and sample from the predictive distribution (or do so using Bayesian ridge). Extract the samples from the predictive distribution, compute the means predictive means from the samples, calculate the root-mean-squared error (RMSE) between the predictive means and the actual charges in the test set:\n",
    "\n",
    "$$\\text{RMSE} = \\sqrt{\\frac{1}{M} \\sum_{m=1}^{M} (\\hat{y}_m - y_m)^2},$$\n",
    "\n",
    "where $M$ denotes the number of test instances and $\\hat{y}_m$ denotes the predictive means.\n",
    "\n",
    "How good are your predictions? What information did you lose by computing the predictive means? How could you possibly propagate the uncertainty information encoded in the predictive distribution to obtain a distribution over the test RMSE values?"
   ]
  }
 ],
 "metadata": {
  "language_info": {
   "name": "python"
  }
 },
 "nbformat": 4,
 "nbformat_minor": 5
}
