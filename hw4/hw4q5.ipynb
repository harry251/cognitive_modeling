{
 "cells": [
  {
   "cell_type": "markdown",
   "id": "3b259449",
   "metadata": {},
   "source": [
    "Shichao: One key takeaway for me is how central probabilistic thinking is to understanding human cognition. Before this course, I thought of cognition mostly in terms of deterministic processes—stimulus in, response out. But through topics like Bayesian regression, predictive distributions, and model comparison, I came to appreciate how much more realistic and flexible probabilistic models are for capturing uncertainty, noise, and variability in behavior.\n",
    "For example, when modeling perception or decision-making, deterministic predictions fail to explain trial-by-trial fluctuations or confidence judgments. However, Bayesian models naturally account for this uncertainty and allow for probabilistic inference, which aligns more closely with how real minds operate in uncertain environments. I now see probabilistic modeling not just as a tool for statistics, but as a core framework for theorizing about how the mind represents and processes information under uncertainty."
   ]
  }
 ],
 "metadata": {
  "language_info": {
   "name": "python"
  }
 },
 "nbformat": 4,
 "nbformat_minor": 5
}
